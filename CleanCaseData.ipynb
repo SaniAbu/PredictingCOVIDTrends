{
 "cells": [
  {
   "cell_type": "code",
   "execution_count": 19,
   "id": "f3d9635e-95dd-4c97-907b-222f3743b227",
   "metadata": {},
   "outputs": [],
   "source": [
    "import pandas as pd\n",
    "import time\n",
    "from datetime import datetime as dt\n",
    "import numpy as np\n",
    "import matplotlib.pyplot as plt\n",
    "import seaborn as sns\n",
    "%matplotlib inline\n",
    "\n",
    "casedata = pd.read_csv('ltla_2021-08-15.csv')\n",
    "\n",
    "casedata = casedata.drop(['areaType', 'areaCode'], axis=1)\n",
    "casedata = casedata.rename(columns={'areaName' : 'sub_region_1'})\n",
    "casedata = casedata.sort_values(by=['sub_region_1', 'date'], ascending=(True, True))\n",
    "\n",
    "casedata.to_csv('specimencasedata.csv')"
   ]
  },
  {
   "cell_type": "code",
   "execution_count": null,
   "id": "061b3870-c9a3-444d-b54d-35a5ee51c80c",
   "metadata": {},
   "outputs": [],
   "source": []
  }
 ],
 "metadata": {
  "kernelspec": {
   "display_name": "Python 3",
   "language": "python",
   "name": "python3"
  },
  "language_info": {
   "codemirror_mode": {
    "name": "ipython",
    "version": 3
   },
   "file_extension": ".py",
   "mimetype": "text/x-python",
   "name": "python",
   "nbconvert_exporter": "python",
   "pygments_lexer": "ipython3",
   "version": "3.8.8"
  }
 },
 "nbformat": 4,
 "nbformat_minor": 5
}
